{
 "cells": [
  {
   "cell_type": "markdown",
   "metadata": {},
   "source": [
    "# Exercise 2"
   ]
  },
  {
   "cell_type": "code",
   "execution_count": 43,
   "metadata": {},
   "outputs": [],
   "source": [
    "import torch\n",
    "import torch.nn as nn\n",
    "import torch.optim as optim\n",
    "from torchvision import datasets, transforms\n",
    "from torch.utils.data import DataLoader\n",
    "import matplotlib.pyplot as plt\n",
    "from torchinfo import summary"
   ]
  },
  {
   "cell_type": "markdown",
   "metadata": {},
   "source": [
    "## CUDA available?"
   ]
  },
  {
   "cell_type": "code",
   "execution_count": 44,
   "metadata": {},
   "outputs": [
    {
     "name": "stdout",
     "output_type": "stream",
     "text": [
      "cuda\n"
     ]
    }
   ],
   "source": [
    "device = torch.device(\"cuda\" if torch.cuda.is_available() else \"cpu\")\n",
    "print(device)"
   ]
  },
  {
   "cell_type": "code",
   "execution_count": 45,
   "metadata": {},
   "outputs": [
    {
     "data": {
      "text/plain": [
       "'2.5.1+cu124'"
      ]
     },
     "execution_count": 45,
     "metadata": {},
     "output_type": "execute_result"
    }
   ],
   "source": [
    "torch.__version__"
   ]
  },
  {
   "cell_type": "markdown",
   "metadata": {},
   "source": [
    "## Transform data"
   ]
  },
  {
   "cell_type": "code",
   "execution_count": 46,
   "metadata": {},
   "outputs": [],
   "source": [
    "train_dir = \"data/train\"\n",
    "val_dir = \"data/validation\""
   ]
  },
  {
   "cell_type": "markdown",
   "metadata": {},
   "source": [
    "## 1. Dataset Preprocessing"
   ]
  },
  {
   "cell_type": "markdown",
   "metadata": {},
   "source": [
    "### a. Output dimensions of train and test datasets and size of images"
   ]
  },
  {
   "cell_type": "code",
   "execution_count": 47,
   "metadata": {},
   "outputs": [],
   "source": [
    "#TODO"
   ]
  },
  {
   "cell_type": "markdown",
   "metadata": {},
   "source": [
    "### b. Histogram of digit distribution"
   ]
  },
  {
   "cell_type": "code",
   "execution_count": 48,
   "metadata": {},
   "outputs": [],
   "source": [
    "#TODO"
   ]
  },
  {
   "cell_type": "markdown",
   "metadata": {},
   "source": [
    "## 2. Train a CNN"
   ]
  },
  {
   "cell_type": "markdown",
   "metadata": {},
   "source": [
    "### Load dataset"
   ]
  },
  {
   "cell_type": "code",
   "execution_count": 49,
   "metadata": {},
   "outputs": [],
   "source": [
    "image_size = 224\n",
    "batch_size = 64\n",
    "num_workers = 16\n",
    "torch.manual_seed(42)\n",
    "pin_memory = True\n",
    "\n",
    "# Transform\n",
    "# train_transform = transforms.Compose([\n",
    "#     transforms.RandomResizedCrop(image_size),  # Randomly resized crop directly to (224, 224)\n",
    "#     transforms.RandomHorizontalFlip(),\n",
    "#     transforms.ToTensor()\n",
    "# ])\n",
    "train_transform = transforms.Compose([\n",
    "    transforms.Resize((image_size, image_size)),\n",
    "    transforms.TrivialAugmentWide(),\n",
    "    transforms.ToTensor()\n",
    "])\n",
    "\n",
    "test_transform = transforms.Compose([\n",
    "    transforms.Resize((image_size, image_size)),  # Ensures all validation images are resized to (224, 224)\n",
    "    transforms.ToTensor()\n",
    "])\n",
    "\n",
    "\n",
    "# Create instances of MultiAugmentedDataset for training data with multiple augmentations\n",
    "train_data = datasets.ImageFolder(train_dir, transform=train_transform)\n",
    "\n",
    "# Load test data using ImageFolder (no multiple augmentations needed for test data)\n",
    "val_data = datasets.ImageFolder(val_dir, transform=test_transform)\n",
    "\n",
    "# Create dataloaders\n",
    "train_loader = DataLoader(train_data, \n",
    "                              batch_size=batch_size, \n",
    "                              shuffle=True,\n",
    "                              num_workers=num_workers,\n",
    "                              pin_memory=pin_memory)\n",
    "\n",
    "val_loader = DataLoader(val_data, \n",
    "                            batch_size=batch_size,\n",
    "                            shuffle=False, \n",
    "                            num_workers=num_workers,\n",
    "                            pin_memory=pin_memory)"
   ]
  },
  {
   "cell_type": "markdown",
   "metadata": {},
   "source": [
    "### Define the network"
   ]
  },
  {
   "cell_type": "code",
   "execution_count": 50,
   "metadata": {},
   "outputs": [],
   "source": [
    "num_classes = 2\n",
    "\n",
    "class FlexibleNetwork(nn.Module):\n",
    "    def __init__(self, conv_layers, fc_layers, dropout_rate=0.0):\n",
    "        super(FlexibleNetwork, self).__init__()\n",
    "        layers = []\n",
    "        self.relu = nn.ReLU()\n",
    "        in_channels = 3\n",
    "        tmp_channels = in_channels\n",
    "        # Define the convolutional layers\n",
    "        for out_channels in conv_layers:\n",
    "            layers.append(nn.Conv2d(tmp_channels, out_channels, kernel_size=3, stride=2, padding=0))\n",
    "            layers.append(nn.BatchNorm2d(num_features=out_channels))\n",
    "            layers.append(self.relu)\n",
    "            layers.append(nn.MaxPool2d(kernel_size=2))\n",
    "            tmp_channels = out_channels\n",
    "        self.conv_layers = nn.Sequential(*layers)\n",
    "        \n",
    "        # Calculate the size of the tensor after passing through the conv layers\n",
    "        with torch.no_grad():\n",
    "            sample_input = torch.randn(1, in_channels, image_size, image_size)  # create a random sample input tensor\n",
    "            conv_output = self.conv_layers(sample_input)  # pass the sample input tensor through the conv layers\n",
    "            fc_input_size = conv_output.numel()  # calculate the number of elements in the tensor\n",
    "        \n",
    "        # Define the fully connected layers dynamically based on fc_layers\n",
    "        fc_layers_list = []\n",
    "        input_size = fc_input_size\n",
    "        for output_size in fc_layers:\n",
    "            fc_layers_list.append(nn.Linear(in_features=input_size, out_features=output_size))\n",
    "            fc_layers_list.append(self.relu)\n",
    "            fc_layers_list.append(nn.Dropout(p=dropout_rate))\n",
    "            input_size = output_size\n",
    "        \n",
    "        # Sequential container for fully connected layers\n",
    "        self.fc_layers = nn.Sequential(*fc_layers_list)\n",
    "        \n",
    "        # Output layer\n",
    "        self.output_layer = nn.Linear(input_size, num_classes)  # final output layer for num_classes\n",
    "        \n",
    "    def forward(self, x):\n",
    "        x = self.conv_layers(x)\n",
    "        x = x.view(x.size(0), -1)  # Flatten the tensor for the fully connected layers\n",
    "        x = self.fc_layers(x)\n",
    "        x = self.output_layer(x)\n",
    "        return x\n"
   ]
  },
  {
   "cell_type": "markdown",
   "metadata": {},
   "source": [
    "### Train the model function"
   ]
  },
  {
   "cell_type": "code",
   "execution_count": 51,
   "metadata": {},
   "outputs": [],
   "source": [
    "import time\n",
    "\n",
    "def train_model(label='Training', conv_layers=None, fc_layers=None, dropout_rate=0.5, optimizer_type='Adam', learning_rate=0.001, reg_type='None', reg_lambda=0.0, momentum=None, n_epochs=5):\n",
    "    model = FlexibleNetwork(conv_layers, fc_layers, dropout_rate)\n",
    "    criterion = nn.CrossEntropyLoss()\n",
    "\n",
    "    # Select optimizer\n",
    "    if optimizer_type == 'SGD':\n",
    "        if momentum is not None and momentum > 0:\n",
    "            optimizer = optim.SGD(model.parameters(), lr=learning_rate, momentum=momentum)\n",
    "        else:\n",
    "            optimizer = optim.SGD(model.parameters(), lr=learning_rate)\n",
    "    elif optimizer_type == 'Adam':\n",
    "        optimizer = optim.Adam(model.parameters(), lr=learning_rate)\n",
    "    else:\n",
    "        raise ValueError(\"Unsupported optimizer type\")\n",
    "\n",
    "    train_losses = []\n",
    "    train_accuracies = []\n",
    "    test_losses = []\n",
    "    test_accuracies = []\n",
    "\n",
    "    print(f\"\\nExperiment: {label}\")\n",
    "    \n",
    "    # Track total training time\n",
    "    total_start_time = time.time()\n",
    "    \n",
    "    for epoch in range(n_epochs):\n",
    "        start_time = time.time()  # Track start time for the epoch\n",
    "        model.train()\n",
    "        train_loss = 0.0\n",
    "        correct = 0\n",
    "        total = 0\n",
    "        \n",
    "        # Progress bar for training batches\n",
    "        for images, labels in train_loader:\n",
    "            optimizer.zero_grad()\n",
    "            outputs = model(images)\n",
    "            loss = criterion(outputs, labels)\n",
    "            \n",
    "            # Apply regularization if specified\n",
    "            if reg_type == 'L1':\n",
    "                l1_norm = sum(param.abs().sum() for param in model.parameters())\n",
    "                loss += reg_lambda * l1_norm\n",
    "            elif reg_type == 'L2':\n",
    "                l2_norm = sum(param.pow(2).sum() for param in model.parameters())\n",
    "                loss += reg_lambda * l2_norm\n",
    "            \n",
    "            loss.backward()\n",
    "            optimizer.step()\n",
    "            train_loss += loss.item()\n",
    "            \n",
    "            # Calculate training accuracy\n",
    "            _, predicted = torch.max(outputs, 1)\n",
    "            total += labels.size(0)\n",
    "            correct += (predicted == labels).sum().item()\n",
    "        \n",
    "        # Calculate training metrics\n",
    "        train_losses.append(train_loss / len(train_loader))\n",
    "        train_accuracy = 100 * correct / total if total > 0 else 0\n",
    "        train_accuracies.append(train_accuracy)\n",
    "\n",
    "        # Evaluation on test set\n",
    "        model.eval()\n",
    "        test_loss = 0.0\n",
    "        correct = 0\n",
    "        total = 0\n",
    "        with torch.no_grad():\n",
    "            for images, labels in val_loader:\n",
    "                outputs = model(images)\n",
    "                loss = criterion(outputs, labels)\n",
    "                test_loss += loss.item()\n",
    "                _, predicted = torch.max(outputs, 1)\n",
    "                total += labels.size(0)\n",
    "                correct += (predicted == labels).sum().item()\n",
    "        \n",
    "        test_losses.append(test_loss / len(val_loader))\n",
    "        test_accuracy = 100 * correct / total\n",
    "        test_accuracies.append(test_accuracy)\n",
    "\n",
    "        # Track and print epoch duration\n",
    "        end_time = time.time()\n",
    "        epoch_duration = end_time - start_time\n",
    "        print(f\"Epoch {epoch+1}/{n_epochs} | Train Loss: {train_losses[-1]:.4f} (acc. {train_accuracy:.2f}%) | \"\n",
    "              f\"Test Loss: {test_losses[-1]:.4f} (acc. {test_accuracy:.2f}%) | Time: {epoch_duration:.2f}s\")\n",
    "    \n",
    "    # Calculate and print total training time\n",
    "    total_end_time = time.time()\n",
    "    total_training_time = total_end_time - total_start_time\n",
    "    print(f\"Training Time: {total_training_time:.2f}s\")\n",
    "    \n",
    "    return model, train_losses, test_losses\n"
   ]
  },
  {
   "cell_type": "markdown",
   "metadata": {},
   "source": [
    "### Default config"
   ]
  },
  {
   "cell_type": "code",
   "execution_count": 52,
   "metadata": {},
   "outputs": [],
   "source": [
    "default_config = {\n",
    "    \"conv_layers\": [32, 64],\n",
    "    \"fc_layers\": [32],\n",
    "    \"dropout_rate\": 0.0,\n",
    "    \"optimizer_type\": \"Adam\",\n",
    "    \"learning_rate\": 0.001,\n",
    "    \"momentum\": None,\n",
    "    \"reg_type\": \"None\",\n",
    "    \"reg_lambda\": 0.001,\n",
    "    \"n_epochs\": 8,\n",
    "    \"label\": \"Default Experiment\"\n",
    "}"
   ]
  },
  {
   "cell_type": "markdown",
   "metadata": {},
   "source": [
    "### Result handler"
   ]
  },
  {
   "cell_type": "code",
   "execution_count": 53,
   "metadata": {},
   "outputs": [],
   "source": [
    "def result_handler(experiment_configs):\n",
    "    results = {}\n",
    "    for config in experiment_configs:\n",
    "        label = config[\"label\"]\n",
    "        model, train_losses, test_losses = train_model(\n",
    "            label=label,\n",
    "            conv_layers=config[\"conv_layers\"],\n",
    "            fc_layers=config[\"fc_layers\"],\n",
    "            dropout_rate=config[\"dropout_rate\"],\n",
    "            optimizer_type=config[\"optimizer_type\"],\n",
    "            learning_rate=config[\"learning_rate\"],\n",
    "            momentum=config[\"momentum\"],\n",
    "            reg_type=config[\"reg_type\"],\n",
    "            reg_lambda=config[\"reg_lambda\"],\n",
    "            n_epochs=config[\"n_epochs\"]\n",
    "        )\n",
    "        results[label] = {\n",
    "            \"model\": model,\n",
    "            \"train_losses\": train_losses,\n",
    "            \"test_losses\": test_losses\n",
    "        }\n",
    "    return results"
   ]
  },
  {
   "cell_type": "markdown",
   "metadata": {},
   "source": [
    "### Plot handler"
   ]
  },
  {
   "cell_type": "code",
   "execution_count": 54,
   "metadata": {},
   "outputs": [],
   "source": [
    "def plot_handler(results, experiment_configs):\n",
    "    num_experiments = len(experiment_configs)\n",
    "    epochs = range(1, experiment_configs[0]['n_epochs'] + 1)\n",
    "    \n",
    "    # Create subplots with flexibility for single or multiple experiments\n",
    "    if num_experiments == 1:\n",
    "        fig, ax = plt.subplots(figsize=(5, 5))\n",
    "        ax = [ax]  # Make it a list to keep indexing consistent\n",
    "    else:\n",
    "        fig, ax = plt.subplots(1, num_experiments, figsize=(5 * num_experiments, 5), sharey=False)\n",
    "    \n",
    "    for i, (label, data) in enumerate(results.items()):\n",
    "        ax[i].plot(epochs, data[\"train_losses\"], marker='o', label=\"Train Loss\")\n",
    "        ax[i].plot(epochs, data[\"test_losses\"], marker='o', linestyle='--', label=\"Test Loss\")\n",
    "        ax[i].set_title(label)\n",
    "        ax[i].set_xlabel('Epoch')\n",
    "        ax[i].set_ylabel('Metric')\n",
    "        ax[i].legend()\n",
    "    \n",
    "    plt.tight_layout()\n",
    "    plt.show()\n"
   ]
  },
  {
   "cell_type": "markdown",
   "metadata": {},
   "source": [
    "### 1. Conv layers"
   ]
  },
  {
   "cell_type": "code",
   "execution_count": 55,
   "metadata": {},
   "outputs": [
    {
     "name": "stdout",
     "output_type": "stream",
     "text": [
      "\n",
      "Experiment: Experiment 1\n"
     ]
    },
    {
     "name": "stdout",
     "output_type": "stream",
     "text": [
      "Epoch 1/2 | Train Loss: 0.7654 (acc. 54.70%) | Test Loss: 0.7502 (acc. 49.83%) | Time: 61.70s\n",
      "Epoch 2/2 | Train Loss: 0.6388 (acc. 63.55%) | Test Loss: 0.6359 (acc. 62.83%) | Time: 61.85s\n",
      "Training Time: 123.55s\n"
     ]
    },
    {
     "data": {
      "image/png": "[encoded data removed]",
      "text/plain": [
       "<Figure size 500x500 with 1 Axes>"
      ]
     },
     "metadata": {},
     "output_type": "display_data"
    },
    {
     "data": {
      "text/plain": [
       "==========================================================================================\n",
       "Layer (type:depth-idx)                   Output Shape              Param #\n",
       "==========================================================================================\n",
       "FlexibleNetwork                          [1, 2]                    --\n",
       "├─Sequential: 1-1                        [1, 32, 13, 13]           4,704\n",
       "│    └─Conv2d: 2-1                       [1, 16, 111, 111]         448\n",
       "│    └─BatchNorm2d: 2-2                  [1, 16, 111, 111]         32\n",
       "├─Sequential: 1-4                        --                        (recursive)\n",
       "│    └─ReLU: 2-3                         [1, 16, 111, 111]         --\n",
       "├─Sequential: 1-5                        --                        (recursive)\n",
       "│    └─MaxPool2d: 2-4                    [1, 16, 55, 55]           --\n",
       "│    └─Conv2d: 2-5                       [1, 32, 27, 27]           4,640\n",
       "│    └─BatchNorm2d: 2-6                  [1, 32, 27, 27]           64\n",
       "├─Sequential: 1-4                        --                        (recursive)\n",
       "│    └─ReLU: 2-7                         [1, 32, 27, 27]           --\n",
       "├─Sequential: 1-5                        --                        (recursive)\n",
       "│    └─MaxPool2d: 2-8                    [1, 32, 13, 13]           --\n",
       "├─Sequential: 1-6                        [1, 32]                   --\n",
       "│    └─Linear: 2-9                       [1, 32]                   173,088\n",
       "│    └─ReLU: 2-10                        [1, 32]                   --\n",
       "│    └─Dropout: 2-11                     [1, 32]                   --\n",
       "├─Linear: 1-7                            [1, 2]                    66\n",
       "==========================================================================================\n",
       "Total params: 183,042\n",
       "Trainable params: 183,042\n",
       "Non-trainable params: 0\n",
       "Total mult-adds (Units.MEGABYTES): 9.08\n",
       "==========================================================================================\n",
       "Input size (MB): 0.60\n",
       "Forward/backward pass size (MB): 3.53\n",
       "Params size (MB): 0.71\n",
       "Estimated Total Size (MB): 4.84\n",
       "=========================================================================================="
      ]
     },
     "execution_count": 55,
     "metadata": {},
     "output_type": "execute_result"
    }
   ],
   "source": [
    "configs1 = [\n",
    "    {**default_config, \"conv_layers\": [16, 32], \"fc_layers\": [32], \"dropout_rate\": 0.0, \"label\": \"Experiment 1\", \"n_epochs\": 2},\n",
    "]\n",
    "results1 = result_handler(configs1)\n",
    "plot_handler(results1, configs1)\n",
    "\n",
    "# Save the model\n",
    "torch.save(results1[\"Experiment 1\"][\"model\"].state_dict(), \"model.pth\")\n",
    "\n",
    "\n",
    "# do a test pass through of an example input size \n",
    "summary(results1[\"Experiment 1\"][\"model\"], input_size=[1, 3, image_size, image_size]) "
   ]
  },
  {
   "cell_type": "code",
   "execution_count": 56,
   "metadata": {},
   "outputs": [
    {
     "name": "stdout",
     "output_type": "stream",
     "text": [
      "\n",
      "Experiment: Experiment 2\n",
      "Epoch 1/8 | Train Loss: 0.6758 (acc. 57.20%) | Test Loss: 0.6989 (acc. 52.50%) | Time: 62.24s\n",
      "Epoch 2/8 | Train Loss: 0.6418 (acc. 63.85%) | Test Loss: 0.6041 (acc. 67.00%) | Time: 61.83s\n",
      "Epoch 3/8 | Train Loss: 0.6063 (acc. 66.25%) | Test Loss: 0.6208 (acc. 63.83%) | Time: 61.79s\n",
      "Epoch 4/8 | Train Loss: 0.5637 (acc. 70.95%) | Test Loss: 0.6232 (acc. 65.33%) | Time: 61.86s\n",
      "Epoch 5/8 | Train Loss: 0.5512 (acc. 71.40%) | Test Loss: 0.6157 (acc. 65.00%) | Time: 62.39s\n",
      "Epoch 6/8 | Train Loss: 0.5270 (acc. 72.80%) | Test Loss: 0.6139 (acc. 66.50%) | Time: 62.44s\n",
      "Epoch 7/8 | Train Loss: 0.5550 (acc. 70.55%) | Test Loss: 0.5724 (acc. 69.50%) | Time: 62.14s\n",
      "Epoch 8/8 | Train Loss: 0.4937 (acc. 76.10%) | Test Loss: 0.5504 (acc. 71.67%) | Time: 62.06s\n",
      "Training Time: 496.75s\n"
     ]
    },
    {
     "ename": "ValueError",
     "evalue": "Expected more than 1 value per channel when training, got input size torch.Size([1, 128, 1, 1])",
     "output_type": "error",
     "traceback": [
      "\u001b[1;31m---------------------------------------------------------------------------\u001b[0m",
      "\u001b[1;31mValueError\u001b[0m                                Traceback (most recent call last)",
      "Cell \u001b[1;32mIn[56], line 6\u001b[0m\n\u001b[0;32m      1\u001b[0m configs2 \u001b[38;5;241m=\u001b[39m [\n\u001b[0;32m      2\u001b[0m     {\u001b[38;5;241m*\u001b[39m\u001b[38;5;241m*\u001b[39mdefault_config, \u001b[38;5;124m\"\u001b[39m\u001b[38;5;124mconv_layers\u001b[39m\u001b[38;5;124m\"\u001b[39m: [\u001b[38;5;241m16\u001b[39m, \u001b[38;5;241m32\u001b[39m, \u001b[38;5;241m64\u001b[39m], \u001b[38;5;124m\"\u001b[39m\u001b[38;5;124mfc_layers\u001b[39m\u001b[38;5;124m\"\u001b[39m: [\u001b[38;5;241m32\u001b[39m], \u001b[38;5;124m\"\u001b[39m\u001b[38;5;124mdropout_rate\u001b[39m\u001b[38;5;124m\"\u001b[39m: \u001b[38;5;241m0.0\u001b[39m, \u001b[38;5;124m\"\u001b[39m\u001b[38;5;124mlabel\u001b[39m\u001b[38;5;124m\"\u001b[39m: \u001b[38;5;124m\"\u001b[39m\u001b[38;5;124mExperiment 2\u001b[39m\u001b[38;5;124m\"\u001b[39m},\n\u001b[0;32m      3\u001b[0m     {\u001b[38;5;241m*\u001b[39m\u001b[38;5;241m*\u001b[39mdefault_config, \u001b[38;5;124m\"\u001b[39m\u001b[38;5;124mconv_layers\u001b[39m\u001b[38;5;124m\"\u001b[39m: [\u001b[38;5;241m16\u001b[39m, \u001b[38;5;241m32\u001b[39m, \u001b[38;5;241m64\u001b[39m, \u001b[38;5;241m128\u001b[39m], \u001b[38;5;124m\"\u001b[39m\u001b[38;5;124mfc_layers\u001b[39m\u001b[38;5;124m\"\u001b[39m: [\u001b[38;5;241m32\u001b[39m], \u001b[38;5;124m\"\u001b[39m\u001b[38;5;124mdropout_rate\u001b[39m\u001b[38;5;124m\"\u001b[39m: \u001b[38;5;241m0.0\u001b[39m, \u001b[38;5;124m\"\u001b[39m\u001b[38;5;124mlabel\u001b[39m\u001b[38;5;124m\"\u001b[39m: \u001b[38;5;124m\"\u001b[39m\u001b[38;5;124mExperiment 3\u001b[39m\u001b[38;5;124m\"\u001b[39m},\n\u001b[0;32m      4\u001b[0m     {\u001b[38;5;241m*\u001b[39m\u001b[38;5;241m*\u001b[39mdefault_config, \u001b[38;5;124m\"\u001b[39m\u001b[38;5;124mconv_layers\u001b[39m\u001b[38;5;124m\"\u001b[39m: [\u001b[38;5;241m16\u001b[39m, \u001b[38;5;241m32\u001b[39m, \u001b[38;5;241m64\u001b[39m, \u001b[38;5;241m128\u001b[39m, \u001b[38;5;241m256\u001b[39m], \u001b[38;5;124m\"\u001b[39m\u001b[38;5;124mfc_layers\u001b[39m\u001b[38;5;124m\"\u001b[39m: [\u001b[38;5;241m32\u001b[39m], \u001b[38;5;124m\"\u001b[39m\u001b[38;5;124mdropout_rate\u001b[39m\u001b[38;5;124m\"\u001b[39m: \u001b[38;5;241m0.0\u001b[39m, \u001b[38;5;124m\"\u001b[39m\u001b[38;5;124mlabel\u001b[39m\u001b[38;5;124m\"\u001b[39m: \u001b[38;5;124m\"\u001b[39m\u001b[38;5;124mExperiment 4\u001b[39m\u001b[38;5;124m\"\u001b[39m},\n\u001b[0;32m      5\u001b[0m ]\n\u001b[1;32m----> 6\u001b[0m results2 \u001b[38;5;241m=\u001b[39m \u001b[43mresult_handler\u001b[49m\u001b[43m(\u001b[49m\u001b[43mconfigs2\u001b[49m\u001b[43m)\u001b[49m\n\u001b[0;32m      7\u001b[0m plot_handler(results2, configs2)\n",
      "Cell \u001b[1;32mIn[53], line 5\u001b[0m, in \u001b[0;36mresult_handler\u001b[1;34m(experiment_configs)\u001b[0m\n\u001b[0;32m      3\u001b[0m \u001b[38;5;28;01mfor\u001b[39;00m config \u001b[38;5;129;01min\u001b[39;00m experiment_configs:\n\u001b[0;32m      4\u001b[0m     label \u001b[38;5;241m=\u001b[39m config[\u001b[38;5;124m\"\u001b[39m\u001b[38;5;124mlabel\u001b[39m\u001b[38;5;124m\"\u001b[39m]\n\u001b[1;32m----> 5\u001b[0m     model, train_losses, test_losses \u001b[38;5;241m=\u001b[39m \u001b[43mtrain_model\u001b[49m\u001b[43m(\u001b[49m\n\u001b[0;32m      6\u001b[0m \u001b[43m        \u001b[49m\u001b[43mlabel\u001b[49m\u001b[38;5;241;43m=\u001b[39;49m\u001b[43mlabel\u001b[49m\u001b[43m,\u001b[49m\n\u001b[0;32m      7\u001b[0m \u001b[43m        \u001b[49m\u001b[43mconv_layers\u001b[49m\u001b[38;5;241;43m=\u001b[39;49m\u001b[43mconfig\u001b[49m\u001b[43m[\u001b[49m\u001b[38;5;124;43m\"\u001b[39;49m\u001b[38;5;124;43mconv_layers\u001b[39;49m\u001b[38;5;124;43m\"\u001b[39;49m\u001b[43m]\u001b[49m\u001b[43m,\u001b[49m\n\u001b[0;32m      8\u001b[0m \u001b[43m        \u001b[49m\u001b[43mfc_layers\u001b[49m\u001b[38;5;241;43m=\u001b[39;49m\u001b[43mconfig\u001b[49m\u001b[43m[\u001b[49m\u001b[38;5;124;43m\"\u001b[39;49m\u001b[38;5;124;43mfc_layers\u001b[39;49m\u001b[38;5;124;43m\"\u001b[39;49m\u001b[43m]\u001b[49m\u001b[43m,\u001b[49m\n\u001b[0;32m      9\u001b[0m \u001b[43m        \u001b[49m\u001b[43mdropout_rate\u001b[49m\u001b[38;5;241;43m=\u001b[39;49m\u001b[43mconfig\u001b[49m\u001b[43m[\u001b[49m\u001b[38;5;124;43m\"\u001b[39;49m\u001b[38;5;124;43mdropout_rate\u001b[39;49m\u001b[38;5;124;43m\"\u001b[39;49m\u001b[43m]\u001b[49m\u001b[43m,\u001b[49m\n\u001b[0;32m     10\u001b[0m \u001b[43m        \u001b[49m\u001b[43moptimizer_type\u001b[49m\u001b[38;5;241;43m=\u001b[39;49m\u001b[43mconfig\u001b[49m\u001b[43m[\u001b[49m\u001b[38;5;124;43m\"\u001b[39;49m\u001b[38;5;124;43moptimizer_type\u001b[39;49m\u001b[38;5;124;43m\"\u001b[39;49m\u001b[43m]\u001b[49m\u001b[43m,\u001b[49m\n\u001b[0;32m     11\u001b[0m \u001b[43m        \u001b[49m\u001b[43mlearning_rate\u001b[49m\u001b[38;5;241;43m=\u001b[39;49m\u001b[43mconfig\u001b[49m\u001b[43m[\u001b[49m\u001b[38;5;124;43m\"\u001b[39;49m\u001b[38;5;124;43mlearning_rate\u001b[39;49m\u001b[38;5;124;43m\"\u001b[39;49m\u001b[43m]\u001b[49m\u001b[43m,\u001b[49m\n\u001b[0;32m     12\u001b[0m \u001b[43m        \u001b[49m\u001b[43mmomentum\u001b[49m\u001b[38;5;241;43m=\u001b[39;49m\u001b[43mconfig\u001b[49m\u001b[43m[\u001b[49m\u001b[38;5;124;43m\"\u001b[39;49m\u001b[38;5;124;43mmomentum\u001b[39;49m\u001b[38;5;124;43m\"\u001b[39;49m\u001b[43m]\u001b[49m\u001b[43m,\u001b[49m\n\u001b[0;32m     13\u001b[0m \u001b[43m        \u001b[49m\u001b[43mreg_type\u001b[49m\u001b[38;5;241;43m=\u001b[39;49m\u001b[43mconfig\u001b[49m\u001b[43m[\u001b[49m\u001b[38;5;124;43m\"\u001b[39;49m\u001b[38;5;124;43mreg_type\u001b[39;49m\u001b[38;5;124;43m\"\u001b[39;49m\u001b[43m]\u001b[49m\u001b[43m,\u001b[49m\n\u001b[0;32m     14\u001b[0m \u001b[43m        \u001b[49m\u001b[43mreg_lambda\u001b[49m\u001b[38;5;241;43m=\u001b[39;49m\u001b[43mconfig\u001b[49m\u001b[43m[\u001b[49m\u001b[38;5;124;43m\"\u001b[39;49m\u001b[38;5;124;43mreg_lambda\u001b[39;49m\u001b[38;5;124;43m\"\u001b[39;49m\u001b[43m]\u001b[49m\u001b[43m,\u001b[49m\n\u001b[0;32m     15\u001b[0m \u001b[43m        \u001b[49m\u001b[43mn_epochs\u001b[49m\u001b[38;5;241;43m=\u001b[39;49m\u001b[43mconfig\u001b[49m\u001b[43m[\u001b[49m\u001b[38;5;124;43m\"\u001b[39;49m\u001b[38;5;124;43mn_epochs\u001b[39;49m\u001b[38;5;124;43m\"\u001b[39;49m\u001b[43m]\u001b[49m\n\u001b[0;32m     16\u001b[0m \u001b[43m    \u001b[49m\u001b[43m)\u001b[49m\n\u001b[0;32m     17\u001b[0m     results[label] \u001b[38;5;241m=\u001b[39m {\n\u001b[0;32m     18\u001b[0m         \u001b[38;5;124m\"\u001b[39m\u001b[38;5;124mmodel\u001b[39m\u001b[38;5;124m\"\u001b[39m: model,\n\u001b[0;32m     19\u001b[0m         \u001b[38;5;124m\"\u001b[39m\u001b[38;5;124mtrain_losses\u001b[39m\u001b[38;5;124m\"\u001b[39m: train_losses,\n\u001b[0;32m     20\u001b[0m         \u001b[38;5;124m\"\u001b[39m\u001b[38;5;124mtest_losses\u001b[39m\u001b[38;5;124m\"\u001b[39m: test_losses\n\u001b[0;32m     21\u001b[0m     }\n\u001b[0;32m     22\u001b[0m \u001b[38;5;28;01mreturn\u001b[39;00m results\n",
      "Cell \u001b[1;32mIn[51], line 4\u001b[0m, in \u001b[0;36mtrain_model\u001b[1;34m(label, conv_layers, fc_layers, dropout_rate, optimizer_type, learning_rate, reg_type, reg_lambda, momentum, n_epochs)\u001b[0m\n\u001b[0;32m      3\u001b[0m \u001b[38;5;28;01mdef\u001b[39;00m \u001b[38;5;21mtrain_model\u001b[39m(label\u001b[38;5;241m=\u001b[39m\u001b[38;5;124m'\u001b[39m\u001b[38;5;124mTraining\u001b[39m\u001b[38;5;124m'\u001b[39m, conv_layers\u001b[38;5;241m=\u001b[39m\u001b[38;5;28;01mNone\u001b[39;00m, fc_layers\u001b[38;5;241m=\u001b[39m\u001b[38;5;28;01mNone\u001b[39;00m, dropout_rate\u001b[38;5;241m=\u001b[39m\u001b[38;5;241m0.5\u001b[39m, optimizer_type\u001b[38;5;241m=\u001b[39m\u001b[38;5;124m'\u001b[39m\u001b[38;5;124mAdam\u001b[39m\u001b[38;5;124m'\u001b[39m, learning_rate\u001b[38;5;241m=\u001b[39m\u001b[38;5;241m0.001\u001b[39m, reg_type\u001b[38;5;241m=\u001b[39m\u001b[38;5;124m'\u001b[39m\u001b[38;5;124mNone\u001b[39m\u001b[38;5;124m'\u001b[39m, reg_lambda\u001b[38;5;241m=\u001b[39m\u001b[38;5;241m0.0\u001b[39m, momentum\u001b[38;5;241m=\u001b[39m\u001b[38;5;28;01mNone\u001b[39;00m, n_epochs\u001b[38;5;241m=\u001b[39m\u001b[38;5;241m5\u001b[39m):\n\u001b[1;32m----> 4\u001b[0m     model \u001b[38;5;241m=\u001b[39m \u001b[43mFlexibleNetwork\u001b[49m\u001b[43m(\u001b[49m\u001b[43mconv_layers\u001b[49m\u001b[43m,\u001b[49m\u001b[43m \u001b[49m\u001b[43mfc_layers\u001b[49m\u001b[43m,\u001b[49m\u001b[43m \u001b[49m\u001b[43mdropout_rate\u001b[49m\u001b[43m)\u001b[49m\n\u001b[0;32m      5\u001b[0m     criterion \u001b[38;5;241m=\u001b[39m nn\u001b[38;5;241m.\u001b[39mCrossEntropyLoss()\n\u001b[0;32m      7\u001b[0m     \u001b[38;5;66;03m# Select optimizer\u001b[39;00m\n",
      "Cell \u001b[1;32mIn[50], line 22\u001b[0m, in \u001b[0;36mFlexibleNetwork.__init__\u001b[1;34m(self, conv_layers, fc_layers, dropout_rate)\u001b[0m\n\u001b[0;32m     20\u001b[0m \u001b[38;5;28;01mwith\u001b[39;00m torch\u001b[38;5;241m.\u001b[39mno_grad():\n\u001b[0;32m     21\u001b[0m     sample_input \u001b[38;5;241m=\u001b[39m torch\u001b[38;5;241m.\u001b[39mrandn(\u001b[38;5;241m1\u001b[39m, in_channels, image_size, image_size)  \u001b[38;5;66;03m# create a random sample input tensor\u001b[39;00m\n\u001b[1;32m---> 22\u001b[0m     conv_output \u001b[38;5;241m=\u001b[39m \u001b[38;5;28;43mself\u001b[39;49m\u001b[38;5;241;43m.\u001b[39;49m\u001b[43mconv_layers\u001b[49m\u001b[43m(\u001b[49m\u001b[43msample_input\u001b[49m\u001b[43m)\u001b[49m  \u001b[38;5;66;03m# pass the sample input tensor through the conv layers\u001b[39;00m\n\u001b[0;32m     23\u001b[0m     fc_input_size \u001b[38;5;241m=\u001b[39m conv_output\u001b[38;5;241m.\u001b[39mnumel()  \u001b[38;5;66;03m# calculate the number of elements in the tensor\u001b[39;00m\n\u001b[0;32m     25\u001b[0m \u001b[38;5;66;03m# Define the fully connected layers dynamically based on fc_layers\u001b[39;00m\n",
      "File \u001b[1;32mc:\\Users\\henri\\miniconda3\\envs\\deep\\Lib\\site-packages\\torch\\nn\\modules\\module.py:1736\u001b[0m, in \u001b[0;36mModule._wrapped_call_impl\u001b[1;34m(self, *args, **kwargs)\u001b[0m\n\u001b[0;32m   1734\u001b[0m     \u001b[38;5;28;01mreturn\u001b[39;00m \u001b[38;5;28mself\u001b[39m\u001b[38;5;241m.\u001b[39m_compiled_call_impl(\u001b[38;5;241m*\u001b[39margs, \u001b[38;5;241m*\u001b[39m\u001b[38;5;241m*\u001b[39mkwargs)  \u001b[38;5;66;03m# type: ignore[misc]\u001b[39;00m\n\u001b[0;32m   1735\u001b[0m \u001b[38;5;28;01melse\u001b[39;00m:\n\u001b[1;32m-> 1736\u001b[0m     \u001b[38;5;28;01mreturn\u001b[39;00m \u001b[38;5;28;43mself\u001b[39;49m\u001b[38;5;241;43m.\u001b[39;49m\u001b[43m_call_impl\u001b[49m\u001b[43m(\u001b[49m\u001b[38;5;241;43m*\u001b[39;49m\u001b[43margs\u001b[49m\u001b[43m,\u001b[49m\u001b[43m \u001b[49m\u001b[38;5;241;43m*\u001b[39;49m\u001b[38;5;241;43m*\u001b[39;49m\u001b[43mkwargs\u001b[49m\u001b[43m)\u001b[49m\n",
      "File \u001b[1;32mc:\\Users\\henri\\miniconda3\\envs\\deep\\Lib\\site-packages\\torch\\nn\\modules\\module.py:1747\u001b[0m, in \u001b[0;36mModule._call_impl\u001b[1;34m(self, *args, **kwargs)\u001b[0m\n\u001b[0;32m   1742\u001b[0m \u001b[38;5;66;03m# If we don't have any hooks, we want to skip the rest of the logic in\u001b[39;00m\n\u001b[0;32m   1743\u001b[0m \u001b[38;5;66;03m# this function, and just call forward.\u001b[39;00m\n\u001b[0;32m   1744\u001b[0m \u001b[38;5;28;01mif\u001b[39;00m \u001b[38;5;129;01mnot\u001b[39;00m (\u001b[38;5;28mself\u001b[39m\u001b[38;5;241m.\u001b[39m_backward_hooks \u001b[38;5;129;01mor\u001b[39;00m \u001b[38;5;28mself\u001b[39m\u001b[38;5;241m.\u001b[39m_backward_pre_hooks \u001b[38;5;129;01mor\u001b[39;00m \u001b[38;5;28mself\u001b[39m\u001b[38;5;241m.\u001b[39m_forward_hooks \u001b[38;5;129;01mor\u001b[39;00m \u001b[38;5;28mself\u001b[39m\u001b[38;5;241m.\u001b[39m_forward_pre_hooks\n\u001b[0;32m   1745\u001b[0m         \u001b[38;5;129;01mor\u001b[39;00m _global_backward_pre_hooks \u001b[38;5;129;01mor\u001b[39;00m _global_backward_hooks\n\u001b[0;32m   1746\u001b[0m         \u001b[38;5;129;01mor\u001b[39;00m _global_forward_hooks \u001b[38;5;129;01mor\u001b[39;00m _global_forward_pre_hooks):\n\u001b[1;32m-> 1747\u001b[0m     \u001b[38;5;28;01mreturn\u001b[39;00m \u001b[43mforward_call\u001b[49m\u001b[43m(\u001b[49m\u001b[38;5;241;43m*\u001b[39;49m\u001b[43margs\u001b[49m\u001b[43m,\u001b[49m\u001b[43m \u001b[49m\u001b[38;5;241;43m*\u001b[39;49m\u001b[38;5;241;43m*\u001b[39;49m\u001b[43mkwargs\u001b[49m\u001b[43m)\u001b[49m\n\u001b[0;32m   1749\u001b[0m result \u001b[38;5;241m=\u001b[39m \u001b[38;5;28;01mNone\u001b[39;00m\n\u001b[0;32m   1750\u001b[0m called_always_called_hooks \u001b[38;5;241m=\u001b[39m \u001b[38;5;28mset\u001b[39m()\n",
      "File \u001b[1;32mc:\\Users\\henri\\miniconda3\\envs\\deep\\Lib\\site-packages\\torch\\nn\\modules\\container.py:250\u001b[0m, in \u001b[0;36mSequential.forward\u001b[1;34m(self, input)\u001b[0m\n\u001b[0;32m    248\u001b[0m \u001b[38;5;28;01mdef\u001b[39;00m \u001b[38;5;21mforward\u001b[39m(\u001b[38;5;28mself\u001b[39m, \u001b[38;5;28minput\u001b[39m):\n\u001b[0;32m    249\u001b[0m     \u001b[38;5;28;01mfor\u001b[39;00m module \u001b[38;5;129;01min\u001b[39;00m \u001b[38;5;28mself\u001b[39m:\n\u001b[1;32m--> 250\u001b[0m         \u001b[38;5;28minput\u001b[39m \u001b[38;5;241m=\u001b[39m \u001b[43mmodule\u001b[49m\u001b[43m(\u001b[49m\u001b[38;5;28;43minput\u001b[39;49m\u001b[43m)\u001b[49m\n\u001b[0;32m    251\u001b[0m     \u001b[38;5;28;01mreturn\u001b[39;00m \u001b[38;5;28minput\u001b[39m\n",
      "File \u001b[1;32mc:\\Users\\henri\\miniconda3\\envs\\deep\\Lib\\site-packages\\torch\\nn\\modules\\module.py:1736\u001b[0m, in \u001b[0;36mModule._wrapped_call_impl\u001b[1;34m(self, *args, **kwargs)\u001b[0m\n\u001b[0;32m   1734\u001b[0m     \u001b[38;5;28;01mreturn\u001b[39;00m \u001b[38;5;28mself\u001b[39m\u001b[38;5;241m.\u001b[39m_compiled_call_impl(\u001b[38;5;241m*\u001b[39margs, \u001b[38;5;241m*\u001b[39m\u001b[38;5;241m*\u001b[39mkwargs)  \u001b[38;5;66;03m# type: ignore[misc]\u001b[39;00m\n\u001b[0;32m   1735\u001b[0m \u001b[38;5;28;01melse\u001b[39;00m:\n\u001b[1;32m-> 1736\u001b[0m     \u001b[38;5;28;01mreturn\u001b[39;00m \u001b[38;5;28;43mself\u001b[39;49m\u001b[38;5;241;43m.\u001b[39;49m\u001b[43m_call_impl\u001b[49m\u001b[43m(\u001b[49m\u001b[38;5;241;43m*\u001b[39;49m\u001b[43margs\u001b[49m\u001b[43m,\u001b[49m\u001b[43m \u001b[49m\u001b[38;5;241;43m*\u001b[39;49m\u001b[38;5;241;43m*\u001b[39;49m\u001b[43mkwargs\u001b[49m\u001b[43m)\u001b[49m\n",
      "File \u001b[1;32mc:\\Users\\henri\\miniconda3\\envs\\deep\\Lib\\site-packages\\torch\\nn\\modules\\module.py:1747\u001b[0m, in \u001b[0;36mModule._call_impl\u001b[1;34m(self, *args, **kwargs)\u001b[0m\n\u001b[0;32m   1742\u001b[0m \u001b[38;5;66;03m# If we don't have any hooks, we want to skip the rest of the logic in\u001b[39;00m\n\u001b[0;32m   1743\u001b[0m \u001b[38;5;66;03m# this function, and just call forward.\u001b[39;00m\n\u001b[0;32m   1744\u001b[0m \u001b[38;5;28;01mif\u001b[39;00m \u001b[38;5;129;01mnot\u001b[39;00m (\u001b[38;5;28mself\u001b[39m\u001b[38;5;241m.\u001b[39m_backward_hooks \u001b[38;5;129;01mor\u001b[39;00m \u001b[38;5;28mself\u001b[39m\u001b[38;5;241m.\u001b[39m_backward_pre_hooks \u001b[38;5;129;01mor\u001b[39;00m \u001b[38;5;28mself\u001b[39m\u001b[38;5;241m.\u001b[39m_forward_hooks \u001b[38;5;129;01mor\u001b[39;00m \u001b[38;5;28mself\u001b[39m\u001b[38;5;241m.\u001b[39m_forward_pre_hooks\n\u001b[0;32m   1745\u001b[0m         \u001b[38;5;129;01mor\u001b[39;00m _global_backward_pre_hooks \u001b[38;5;129;01mor\u001b[39;00m _global_backward_hooks\n\u001b[0;32m   1746\u001b[0m         \u001b[38;5;129;01mor\u001b[39;00m _global_forward_hooks \u001b[38;5;129;01mor\u001b[39;00m _global_forward_pre_hooks):\n\u001b[1;32m-> 1747\u001b[0m     \u001b[38;5;28;01mreturn\u001b[39;00m \u001b[43mforward_call\u001b[49m\u001b[43m(\u001b[49m\u001b[38;5;241;43m*\u001b[39;49m\u001b[43margs\u001b[49m\u001b[43m,\u001b[49m\u001b[43m \u001b[49m\u001b[38;5;241;43m*\u001b[39;49m\u001b[38;5;241;43m*\u001b[39;49m\u001b[43mkwargs\u001b[49m\u001b[43m)\u001b[49m\n\u001b[0;32m   1749\u001b[0m result \u001b[38;5;241m=\u001b[39m \u001b[38;5;28;01mNone\u001b[39;00m\n\u001b[0;32m   1750\u001b[0m called_always_called_hooks \u001b[38;5;241m=\u001b[39m \u001b[38;5;28mset\u001b[39m()\n",
      "File \u001b[1;32mc:\\Users\\henri\\miniconda3\\envs\\deep\\Lib\\site-packages\\torch\\nn\\modules\\batchnorm.py:193\u001b[0m, in \u001b[0;36m_BatchNorm.forward\u001b[1;34m(self, input)\u001b[0m\n\u001b[0;32m    186\u001b[0m     bn_training \u001b[38;5;241m=\u001b[39m (\u001b[38;5;28mself\u001b[39m\u001b[38;5;241m.\u001b[39mrunning_mean \u001b[38;5;129;01mis\u001b[39;00m \u001b[38;5;28;01mNone\u001b[39;00m) \u001b[38;5;129;01mand\u001b[39;00m (\u001b[38;5;28mself\u001b[39m\u001b[38;5;241m.\u001b[39mrunning_var \u001b[38;5;129;01mis\u001b[39;00m \u001b[38;5;28;01mNone\u001b[39;00m)\n\u001b[0;32m    188\u001b[0m \u001b[38;5;250m\u001b[39m\u001b[38;5;124mr\u001b[39m\u001b[38;5;124;03m\"\"\"\u001b[39;00m\n\u001b[0;32m    189\u001b[0m \u001b[38;5;124;03mBuffers are only updated if they are to be tracked and we are in training mode. Thus they only need to be\u001b[39;00m\n\u001b[0;32m    190\u001b[0m \u001b[38;5;124;03mpassed when the update should occur (i.e. in training mode when they are tracked), or when buffer stats are\u001b[39;00m\n\u001b[0;32m    191\u001b[0m \u001b[38;5;124;03mused for normalization (i.e. in eval mode when buffers are not None).\u001b[39;00m\n\u001b[0;32m    192\u001b[0m \u001b[38;5;124;03m\"\"\"\u001b[39;00m\n\u001b[1;32m--> 193\u001b[0m \u001b[38;5;28;01mreturn\u001b[39;00m \u001b[43mF\u001b[49m\u001b[38;5;241;43m.\u001b[39;49m\u001b[43mbatch_norm\u001b[49m\u001b[43m(\u001b[49m\n\u001b[0;32m    194\u001b[0m \u001b[43m    \u001b[49m\u001b[38;5;28;43minput\u001b[39;49m\u001b[43m,\u001b[49m\n\u001b[0;32m    195\u001b[0m \u001b[43m    \u001b[49m\u001b[38;5;66;43;03m# If buffers are not to be tracked, ensure that they won't be updated\u001b[39;49;00m\n\u001b[0;32m    196\u001b[0m \u001b[43m    \u001b[49m\u001b[38;5;28;43mself\u001b[39;49m\u001b[38;5;241;43m.\u001b[39;49m\u001b[43mrunning_mean\u001b[49m\n\u001b[0;32m    197\u001b[0m \u001b[43m    \u001b[49m\u001b[38;5;28;43;01mif\u001b[39;49;00m\u001b[43m \u001b[49m\u001b[38;5;129;43;01mnot\u001b[39;49;00m\u001b[43m \u001b[49m\u001b[38;5;28;43mself\u001b[39;49m\u001b[38;5;241;43m.\u001b[39;49m\u001b[43mtraining\u001b[49m\u001b[43m \u001b[49m\u001b[38;5;129;43;01mor\u001b[39;49;00m\u001b[43m \u001b[49m\u001b[38;5;28;43mself\u001b[39;49m\u001b[38;5;241;43m.\u001b[39;49m\u001b[43mtrack_running_stats\u001b[49m\n\u001b[0;32m    198\u001b[0m \u001b[43m    \u001b[49m\u001b[38;5;28;43;01melse\u001b[39;49;00m\u001b[43m \u001b[49m\u001b[38;5;28;43;01mNone\u001b[39;49;00m\u001b[43m,\u001b[49m\n\u001b[0;32m    199\u001b[0m \u001b[43m    \u001b[49m\u001b[38;5;28;43mself\u001b[39;49m\u001b[38;5;241;43m.\u001b[39;49m\u001b[43mrunning_var\u001b[49m\u001b[43m \u001b[49m\u001b[38;5;28;43;01mif\u001b[39;49;00m\u001b[43m \u001b[49m\u001b[38;5;129;43;01mnot\u001b[39;49;00m\u001b[43m \u001b[49m\u001b[38;5;28;43mself\u001b[39;49m\u001b[38;5;241;43m.\u001b[39;49m\u001b[43mtraining\u001b[49m\u001b[43m \u001b[49m\u001b[38;5;129;43;01mor\u001b[39;49;00m\u001b[43m \u001b[49m\u001b[38;5;28;43mself\u001b[39;49m\u001b[38;5;241;43m.\u001b[39;49m\u001b[43mtrack_running_stats\u001b[49m\u001b[43m \u001b[49m\u001b[38;5;28;43;01melse\u001b[39;49;00m\u001b[43m \u001b[49m\u001b[38;5;28;43;01mNone\u001b[39;49;00m\u001b[43m,\u001b[49m\n\u001b[0;32m    200\u001b[0m \u001b[43m    \u001b[49m\u001b[38;5;28;43mself\u001b[39;49m\u001b[38;5;241;43m.\u001b[39;49m\u001b[43mweight\u001b[49m\u001b[43m,\u001b[49m\n\u001b[0;32m    201\u001b[0m \u001b[43m    \u001b[49m\u001b[38;5;28;43mself\u001b[39;49m\u001b[38;5;241;43m.\u001b[39;49m\u001b[43mbias\u001b[49m\u001b[43m,\u001b[49m\n\u001b[0;32m    202\u001b[0m \u001b[43m    \u001b[49m\u001b[43mbn_training\u001b[49m\u001b[43m,\u001b[49m\n\u001b[0;32m    203\u001b[0m \u001b[43m    \u001b[49m\u001b[43mexponential_average_factor\u001b[49m\u001b[43m,\u001b[49m\n\u001b[0;32m    204\u001b[0m \u001b[43m    \u001b[49m\u001b[38;5;28;43mself\u001b[39;49m\u001b[38;5;241;43m.\u001b[39;49m\u001b[43meps\u001b[49m\u001b[43m,\u001b[49m\n\u001b[0;32m    205\u001b[0m \u001b[43m\u001b[49m\u001b[43m)\u001b[49m\n",
      "File \u001b[1;32mc:\\Users\\henri\\miniconda3\\envs\\deep\\Lib\\site-packages\\torch\\nn\\functional.py:2810\u001b[0m, in \u001b[0;36mbatch_norm\u001b[1;34m(input, running_mean, running_var, weight, bias, training, momentum, eps)\u001b[0m\n\u001b[0;32m   2797\u001b[0m     \u001b[38;5;28;01mreturn\u001b[39;00m handle_torch_function(\n\u001b[0;32m   2798\u001b[0m         batch_norm,\n\u001b[0;32m   2799\u001b[0m         (\u001b[38;5;28minput\u001b[39m, running_mean, running_var, weight, bias),\n\u001b[1;32m   (...)\u001b[0m\n\u001b[0;32m   2807\u001b[0m         eps\u001b[38;5;241m=\u001b[39meps,\n\u001b[0;32m   2808\u001b[0m     )\n\u001b[0;32m   2809\u001b[0m \u001b[38;5;28;01mif\u001b[39;00m training:\n\u001b[1;32m-> 2810\u001b[0m     \u001b[43m_verify_batch_size\u001b[49m\u001b[43m(\u001b[49m\u001b[38;5;28;43minput\u001b[39;49m\u001b[38;5;241;43m.\u001b[39;49m\u001b[43msize\u001b[49m\u001b[43m(\u001b[49m\u001b[43m)\u001b[49m\u001b[43m)\u001b[49m\n\u001b[0;32m   2812\u001b[0m \u001b[38;5;28;01mreturn\u001b[39;00m torch\u001b[38;5;241m.\u001b[39mbatch_norm(\n\u001b[0;32m   2813\u001b[0m     \u001b[38;5;28minput\u001b[39m,\n\u001b[0;32m   2814\u001b[0m     weight,\n\u001b[1;32m   (...)\u001b[0m\n\u001b[0;32m   2821\u001b[0m     torch\u001b[38;5;241m.\u001b[39mbackends\u001b[38;5;241m.\u001b[39mcudnn\u001b[38;5;241m.\u001b[39menabled,\n\u001b[0;32m   2822\u001b[0m )\n",
      "File \u001b[1;32mc:\\Users\\henri\\miniconda3\\envs\\deep\\Lib\\site-packages\\torch\\nn\\functional.py:2776\u001b[0m, in \u001b[0;36m_verify_batch_size\u001b[1;34m(size)\u001b[0m\n\u001b[0;32m   2774\u001b[0m     size_prods \u001b[38;5;241m*\u001b[39m\u001b[38;5;241m=\u001b[39m size[i \u001b[38;5;241m+\u001b[39m \u001b[38;5;241m2\u001b[39m]\n\u001b[0;32m   2775\u001b[0m \u001b[38;5;28;01mif\u001b[39;00m size_prods \u001b[38;5;241m==\u001b[39m \u001b[38;5;241m1\u001b[39m:\n\u001b[1;32m-> 2776\u001b[0m     \u001b[38;5;28;01mraise\u001b[39;00m \u001b[38;5;167;01mValueError\u001b[39;00m(\n\u001b[0;32m   2777\u001b[0m         \u001b[38;5;124mf\u001b[39m\u001b[38;5;124m\"\u001b[39m\u001b[38;5;124mExpected more than 1 value per channel when training, got input size \u001b[39m\u001b[38;5;132;01m{\u001b[39;00msize\u001b[38;5;132;01m}\u001b[39;00m\u001b[38;5;124m\"\u001b[39m\n\u001b[0;32m   2778\u001b[0m     )\n",
      "\u001b[1;31mValueError\u001b[0m: Expected more than 1 value per channel when training, got input size torch.Size([1, 128, 1, 1])"
     ]
    }
   ],
   "source": [
    "configs2 = [\n",
    "    {**default_config, \"conv_layers\": [16, 32, 64], \"fc_layers\": [32], \"dropout_rate\": 0.0, \"label\": \"Experiment 2\"},\n",
    "    {**default_config, \"conv_layers\": [16, 32, 64, 128], \"fc_layers\": [32], \"dropout_rate\": 0.0, \"label\": \"Experiment 3\"},\n",
    "    {**default_config, \"conv_layers\": [16, 32, 64, 128, 256], \"fc_layers\": [32], \"dropout_rate\": 0.0, \"label\": \"Experiment 4\"},\n",
    "]\n",
    "results2 = result_handler(configs2)\n",
    "plot_handler(results2, configs2)"
   ]
  },
  {
   "cell_type": "code",
   "execution_count": null,
   "metadata": {},
   "outputs": [],
   "source": [
    "configs3 = [\n",
    "    # Experiment with shallow network, low dropout\n",
    "    {**default_config, \"conv_layers\": [16, 32], \"fc_layers\": [64], \"dropout_rate\": 0.1, \"learning_rate\": 0.001, \"label\": \"Experiment 5\"},\n",
    "    \n",
    "    # Deeper network with intermediate dropout\n",
    "    {**default_config, \"conv_layers\": [32, 64, 128], \"fc_layers\": [64, 32], \"dropout_rate\": 0.3, \"learning_rate\": 0.001, \"label\": \"Experiment 6\"},\n",
    "    \n",
    "    # Wide layers with high dropout for regularization\n",
    "    {**default_config, \"conv_layers\": [64, 128, 256], \"fc_layers\": [128, 64], \"dropout_rate\": 0.5, \"learning_rate\": 0.001, \"label\": \"Experiment 7\"},\n",
    "    \n",
    "    # High learning rate with a shallow network to speed convergence\n",
    "    {**default_config, \"conv_layers\": [32, 64], \"fc_layers\": [64], \"dropout_rate\": 0.1, \"learning_rate\": 0.01, \"label\": \"Experiment 8\"},\n",
    "    \n",
    "    # Low learning rate with deep network\n",
    "    {**default_config, \"conv_layers\": [32, 64, 128, 256], \"fc_layers\": [128, 64], \"dropout_rate\": 0.3, \"learning_rate\": 0.0005, \"label\": \"Experiment 9\"},\n",
    "    \n",
    "    # Combination of increasing depth and varied dropout\n",
    "    {**default_config, \"conv_layers\": [16, 32, 64, 128, 256], \"fc_layers\": [64], \"dropout_rate\": 0.2, \"learning_rate\": 0.001, \"label\": \"Experiment 10\"},\n",
    "    \n",
    "    # Wide, deep network with intermediate dropout\n",
    "    {**default_config, \"conv_layers\": [64, 128, 256, 512], \"fc_layers\": [256, 64], \"dropout_rate\": 0.3, \"learning_rate\": 0.001, \"label\": \"Experiment 11\"},\n",
    "    \n",
    "    # Moderate depth with lower dropout and standard learning rate\n",
    "    {**default_config, \"conv_layers\": [32, 64, 128], \"fc_layers\": [64, 32], \"dropout_rate\": 0.2, \"learning_rate\": 0.001, \"label\": \"Experiment 12\"},\n",
    "]\n",
    "\n",
    "results3 = result_handler(configs3)\n",
    "plot_handler(results3, configs3)\n"
   ]
  },
  {
   "cell_type": "code",
   "execution_count": null,
   "metadata": {},
   "outputs": [],
   "source": []
  }
 ],
 "metadata": {
  "kernelspec": {
   "display_name": "deep",
   "language": "python",
   "name": "python3"
  },
  "language_info": {
   "codemirror_mode": {
    "name": "ipython",
    "version": 3
   },
   "file_extension": ".py",
   "mimetype": "text/x-python",
   "name": "python",
   "nbconvert_exporter": "python",
   "pygments_lexer": "ipython3",
   "version": "3.12.7"
  }
 },
 "nbformat": 4,
 "nbformat_minor": 2
}
